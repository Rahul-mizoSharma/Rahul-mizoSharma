{
  "metadata": {
    "kernelspec": {
      "name": "python",
      "display_name": "Python (Pyodide)",
      "language": "python"
    },
    "language_info": {
      "codemirror_mode": {
        "name": "python",
        "version": 3
      },
      "file_extension": ".py",
      "mimetype": "text/x-python",
      "name": "python",
      "nbconvert_exporter": "python",
      "pygments_lexer": "ipython3",
      "version": "3.8"
    }
  },
  "nbformat_minor": 4,
  "nbformat": 4,
  "cells": [
    {
      "cell_type": "code",
      "source": "import pandas as pd\ndf = pd.read_csv(\"employee_data.csv\")\ndf",
      "metadata": {
        "trusted": true
      },
      "outputs": [
        {
          "execution_count": 19,
          "output_type": "execute_result",
          "data": {
            "text/plain": "  Employee_ID          Name Department  Salary Joining_Date  Age  \\\n0        E101    John Smith         IT   75000   23-06-2015   29   \n1        E102      Jane Doe         HR   52000   14-08-2017   34   \n2        E103    Mike Brown         IT   67000   21-09-2018   41   \n3        E104   Emily Davis  Marketing   59000   11-11-2016   38   \n4        E105  David Wilson    Finance   88000   19-04-2014   45   \n5        E106  Sarah Taylor  Marketing   64000   01-01-2019   31   \n6        E107   Chris Evans         HR   55000   07-07-2020   25   \n7        E108    Anna White         IT   71000   15-03-2021   27   \n\n            City  Gender  \n0       New York    Male  \n1  San Francisco  Female  \n2        Chicago    Male  \n3         Boston  Female  \n4         Dallas    Male  \n5    Los Angeles  Female  \n6         Austin    Male  \n7        Seattle  Female  ",
            "text/html": "<div>\n<style scoped>\n    .dataframe tbody tr th:only-of-type {\n        vertical-align: middle;\n    }\n\n    .dataframe tbody tr th {\n        vertical-align: top;\n    }\n\n    .dataframe thead th {\n        text-align: right;\n    }\n</style>\n<table border=\"1\" class=\"dataframe\">\n  <thead>\n    <tr style=\"text-align: right;\">\n      <th></th>\n      <th>Employee_ID</th>\n      <th>Name</th>\n      <th>Department</th>\n      <th>Salary</th>\n      <th>Joining_Date</th>\n      <th>Age</th>\n      <th>City</th>\n      <th>Gender</th>\n    </tr>\n  </thead>\n  <tbody>\n    <tr>\n      <th>0</th>\n      <td>E101</td>\n      <td>John Smith</td>\n      <td>IT</td>\n      <td>75000</td>\n      <td>23-06-2015</td>\n      <td>29</td>\n      <td>New York</td>\n      <td>Male</td>\n    </tr>\n    <tr>\n      <th>1</th>\n      <td>E102</td>\n      <td>Jane Doe</td>\n      <td>HR</td>\n      <td>52000</td>\n      <td>14-08-2017</td>\n      <td>34</td>\n      <td>San Francisco</td>\n      <td>Female</td>\n    </tr>\n    <tr>\n      <th>2</th>\n      <td>E103</td>\n      <td>Mike Brown</td>\n      <td>IT</td>\n      <td>67000</td>\n      <td>21-09-2018</td>\n      <td>41</td>\n      <td>Chicago</td>\n      <td>Male</td>\n    </tr>\n    <tr>\n      <th>3</th>\n      <td>E104</td>\n      <td>Emily Davis</td>\n      <td>Marketing</td>\n      <td>59000</td>\n      <td>11-11-2016</td>\n      <td>38</td>\n      <td>Boston</td>\n      <td>Female</td>\n    </tr>\n    <tr>\n      <th>4</th>\n      <td>E105</td>\n      <td>David Wilson</td>\n      <td>Finance</td>\n      <td>88000</td>\n      <td>19-04-2014</td>\n      <td>45</td>\n      <td>Dallas</td>\n      <td>Male</td>\n    </tr>\n    <tr>\n      <th>5</th>\n      <td>E106</td>\n      <td>Sarah Taylor</td>\n      <td>Marketing</td>\n      <td>64000</td>\n      <td>01-01-2019</td>\n      <td>31</td>\n      <td>Los Angeles</td>\n      <td>Female</td>\n    </tr>\n    <tr>\n      <th>6</th>\n      <td>E107</td>\n      <td>Chris Evans</td>\n      <td>HR</td>\n      <td>55000</td>\n      <td>07-07-2020</td>\n      <td>25</td>\n      <td>Austin</td>\n      <td>Male</td>\n    </tr>\n    <tr>\n      <th>7</th>\n      <td>E108</td>\n      <td>Anna White</td>\n      <td>IT</td>\n      <td>71000</td>\n      <td>15-03-2021</td>\n      <td>27</td>\n      <td>Seattle</td>\n      <td>Female</td>\n    </tr>\n  </tbody>\n</table>\n</div>"
          },
          "metadata": {}
        }
      ],
      "execution_count": 19
    },
    {
      "cell_type": "code",
      "source": "df.head()",
      "metadata": {
        "trusted": true
      },
      "outputs": [
        {
          "execution_count": 20,
          "output_type": "execute_result",
          "data": {
            "text/plain": "  Employee_ID          Name Department  Salary Joining_Date  Age  \\\n0        E101    John Smith         IT   75000   23-06-2015   29   \n1        E102      Jane Doe         HR   52000   14-08-2017   34   \n2        E103    Mike Brown         IT   67000   21-09-2018   41   \n3        E104   Emily Davis  Marketing   59000   11-11-2016   38   \n4        E105  David Wilson    Finance   88000   19-04-2014   45   \n\n            City  Gender  \n0       New York    Male  \n1  San Francisco  Female  \n2        Chicago    Male  \n3         Boston  Female  \n4         Dallas    Male  ",
            "text/html": "<div>\n<style scoped>\n    .dataframe tbody tr th:only-of-type {\n        vertical-align: middle;\n    }\n\n    .dataframe tbody tr th {\n        vertical-align: top;\n    }\n\n    .dataframe thead th {\n        text-align: right;\n    }\n</style>\n<table border=\"1\" class=\"dataframe\">\n  <thead>\n    <tr style=\"text-align: right;\">\n      <th></th>\n      <th>Employee_ID</th>\n      <th>Name</th>\n      <th>Department</th>\n      <th>Salary</th>\n      <th>Joining_Date</th>\n      <th>Age</th>\n      <th>City</th>\n      <th>Gender</th>\n    </tr>\n  </thead>\n  <tbody>\n    <tr>\n      <th>0</th>\n      <td>E101</td>\n      <td>John Smith</td>\n      <td>IT</td>\n      <td>75000</td>\n      <td>23-06-2015</td>\n      <td>29</td>\n      <td>New York</td>\n      <td>Male</td>\n    </tr>\n    <tr>\n      <th>1</th>\n      <td>E102</td>\n      <td>Jane Doe</td>\n      <td>HR</td>\n      <td>52000</td>\n      <td>14-08-2017</td>\n      <td>34</td>\n      <td>San Francisco</td>\n      <td>Female</td>\n    </tr>\n    <tr>\n      <th>2</th>\n      <td>E103</td>\n      <td>Mike Brown</td>\n      <td>IT</td>\n      <td>67000</td>\n      <td>21-09-2018</td>\n      <td>41</td>\n      <td>Chicago</td>\n      <td>Male</td>\n    </tr>\n    <tr>\n      <th>3</th>\n      <td>E104</td>\n      <td>Emily Davis</td>\n      <td>Marketing</td>\n      <td>59000</td>\n      <td>11-11-2016</td>\n      <td>38</td>\n      <td>Boston</td>\n      <td>Female</td>\n    </tr>\n    <tr>\n      <th>4</th>\n      <td>E105</td>\n      <td>David Wilson</td>\n      <td>Finance</td>\n      <td>88000</td>\n      <td>19-04-2014</td>\n      <td>45</td>\n      <td>Dallas</td>\n      <td>Male</td>\n    </tr>\n  </tbody>\n</table>\n</div>"
          },
          "metadata": {}
        }
      ],
      "execution_count": 20
    },
    {
      "cell_type": "code",
      "source": "df.tail()",
      "metadata": {
        "trusted": true
      },
      "outputs": [
        {
          "execution_count": 21,
          "output_type": "execute_result",
          "data": {
            "text/plain": "  Employee_ID          Name Department  Salary Joining_Date  Age         City  \\\n3        E104   Emily Davis  Marketing   59000   11-11-2016   38       Boston   \n4        E105  David Wilson    Finance   88000   19-04-2014   45       Dallas   \n5        E106  Sarah Taylor  Marketing   64000   01-01-2019   31  Los Angeles   \n6        E107   Chris Evans         HR   55000   07-07-2020   25       Austin   \n7        E108    Anna White         IT   71000   15-03-2021   27      Seattle   \n\n   Gender  \n3  Female  \n4    Male  \n5  Female  \n6    Male  \n7  Female  ",
            "text/html": "<div>\n<style scoped>\n    .dataframe tbody tr th:only-of-type {\n        vertical-align: middle;\n    }\n\n    .dataframe tbody tr th {\n        vertical-align: top;\n    }\n\n    .dataframe thead th {\n        text-align: right;\n    }\n</style>\n<table border=\"1\" class=\"dataframe\">\n  <thead>\n    <tr style=\"text-align: right;\">\n      <th></th>\n      <th>Employee_ID</th>\n      <th>Name</th>\n      <th>Department</th>\n      <th>Salary</th>\n      <th>Joining_Date</th>\n      <th>Age</th>\n      <th>City</th>\n      <th>Gender</th>\n    </tr>\n  </thead>\n  <tbody>\n    <tr>\n      <th>3</th>\n      <td>E104</td>\n      <td>Emily Davis</td>\n      <td>Marketing</td>\n      <td>59000</td>\n      <td>11-11-2016</td>\n      <td>38</td>\n      <td>Boston</td>\n      <td>Female</td>\n    </tr>\n    <tr>\n      <th>4</th>\n      <td>E105</td>\n      <td>David Wilson</td>\n      <td>Finance</td>\n      <td>88000</td>\n      <td>19-04-2014</td>\n      <td>45</td>\n      <td>Dallas</td>\n      <td>Male</td>\n    </tr>\n    <tr>\n      <th>5</th>\n      <td>E106</td>\n      <td>Sarah Taylor</td>\n      <td>Marketing</td>\n      <td>64000</td>\n      <td>01-01-2019</td>\n      <td>31</td>\n      <td>Los Angeles</td>\n      <td>Female</td>\n    </tr>\n    <tr>\n      <th>6</th>\n      <td>E107</td>\n      <td>Chris Evans</td>\n      <td>HR</td>\n      <td>55000</td>\n      <td>07-07-2020</td>\n      <td>25</td>\n      <td>Austin</td>\n      <td>Male</td>\n    </tr>\n    <tr>\n      <th>7</th>\n      <td>E108</td>\n      <td>Anna White</td>\n      <td>IT</td>\n      <td>71000</td>\n      <td>15-03-2021</td>\n      <td>27</td>\n      <td>Seattle</td>\n      <td>Female</td>\n    </tr>\n  </tbody>\n</table>\n</div>"
          },
          "metadata": {}
        }
      ],
      "execution_count": 21
    },
    {
      "cell_type": "code",
      "source": "df.describe()",
      "metadata": {
        "trusted": true
      },
      "outputs": [
        {
          "execution_count": 22,
          "output_type": "execute_result",
          "data": {
            "text/plain": "             Salary        Age\ncount      8.000000   8.000000\nmean   66375.000000  33.750000\nstd    11710.038429   7.066015\nmin    52000.000000  25.000000\n25%    58000.000000  28.500000\n50%    65500.000000  32.500000\n75%    72000.000000  38.750000\nmax    88000.000000  45.000000",
            "text/html": "<div>\n<style scoped>\n    .dataframe tbody tr th:only-of-type {\n        vertical-align: middle;\n    }\n\n    .dataframe tbody tr th {\n        vertical-align: top;\n    }\n\n    .dataframe thead th {\n        text-align: right;\n    }\n</style>\n<table border=\"1\" class=\"dataframe\">\n  <thead>\n    <tr style=\"text-align: right;\">\n      <th></th>\n      <th>Salary</th>\n      <th>Age</th>\n    </tr>\n  </thead>\n  <tbody>\n    <tr>\n      <th>count</th>\n      <td>8.000000</td>\n      <td>8.000000</td>\n    </tr>\n    <tr>\n      <th>mean</th>\n      <td>66375.000000</td>\n      <td>33.750000</td>\n    </tr>\n    <tr>\n      <th>std</th>\n      <td>11710.038429</td>\n      <td>7.066015</td>\n    </tr>\n    <tr>\n      <th>min</th>\n      <td>52000.000000</td>\n      <td>25.000000</td>\n    </tr>\n    <tr>\n      <th>25%</th>\n      <td>58000.000000</td>\n      <td>28.500000</td>\n    </tr>\n    <tr>\n      <th>50%</th>\n      <td>65500.000000</td>\n      <td>32.500000</td>\n    </tr>\n    <tr>\n      <th>75%</th>\n      <td>72000.000000</td>\n      <td>38.750000</td>\n    </tr>\n    <tr>\n      <th>max</th>\n      <td>88000.000000</td>\n      <td>45.000000</td>\n    </tr>\n  </tbody>\n</table>\n</div>"
          },
          "metadata": {}
        }
      ],
      "execution_count": 22
    },
    {
      "cell_type": "code",
      "source": "df.info()",
      "metadata": {
        "trusted": true
      },
      "outputs": [
        {
          "name": "stdout",
          "text": "<class 'pandas.core.frame.DataFrame'>\nRangeIndex: 8 entries, 0 to 7\nData columns (total 8 columns):\n #   Column        Non-Null Count  Dtype \n---  ------        --------------  ----- \n 0   Employee_ID   8 non-null      object\n 1   Name          8 non-null      object\n 2   Department    8 non-null      object\n 3   Salary        8 non-null      int64 \n 4   Joining_Date  8 non-null      object\n 5   Age           8 non-null      int64 \n 6   City          8 non-null      object\n 7   Gender        8 non-null      object\ndtypes: int64(2), object(6)\nmemory usage: 392.0+ bytes\n",
          "output_type": "stream"
        }
      ],
      "execution_count": 23
    },
    {
      "cell_type": "code",
      "source": "df.head(3)",
      "metadata": {
        "trusted": true
      },
      "outputs": [
        {
          "execution_count": 24,
          "output_type": "execute_result",
          "data": {
            "text/plain": "  Employee_ID        Name Department  Salary Joining_Date  Age           City  \\\n0        E101  John Smith         IT   75000   23-06-2015   29       New York   \n1        E102    Jane Doe         HR   52000   14-08-2017   34  San Francisco   \n2        E103  Mike Brown         IT   67000   21-09-2018   41        Chicago   \n\n   Gender  \n0    Male  \n1  Female  \n2    Male  ",
            "text/html": "<div>\n<style scoped>\n    .dataframe tbody tr th:only-of-type {\n        vertical-align: middle;\n    }\n\n    .dataframe tbody tr th {\n        vertical-align: top;\n    }\n\n    .dataframe thead th {\n        text-align: right;\n    }\n</style>\n<table border=\"1\" class=\"dataframe\">\n  <thead>\n    <tr style=\"text-align: right;\">\n      <th></th>\n      <th>Employee_ID</th>\n      <th>Name</th>\n      <th>Department</th>\n      <th>Salary</th>\n      <th>Joining_Date</th>\n      <th>Age</th>\n      <th>City</th>\n      <th>Gender</th>\n    </tr>\n  </thead>\n  <tbody>\n    <tr>\n      <th>0</th>\n      <td>E101</td>\n      <td>John Smith</td>\n      <td>IT</td>\n      <td>75000</td>\n      <td>23-06-2015</td>\n      <td>29</td>\n      <td>New York</td>\n      <td>Male</td>\n    </tr>\n    <tr>\n      <th>1</th>\n      <td>E102</td>\n      <td>Jane Doe</td>\n      <td>HR</td>\n      <td>52000</td>\n      <td>14-08-2017</td>\n      <td>34</td>\n      <td>San Francisco</td>\n      <td>Female</td>\n    </tr>\n    <tr>\n      <th>2</th>\n      <td>E103</td>\n      <td>Mike Brown</td>\n      <td>IT</td>\n      <td>67000</td>\n      <td>21-09-2018</td>\n      <td>41</td>\n      <td>Chicago</td>\n      <td>Male</td>\n    </tr>\n  </tbody>\n</table>\n</div>"
          },
          "metadata": {}
        }
      ],
      "execution_count": 24
    },
    {
      "cell_type": "code",
      "source": "df.tail(3)",
      "metadata": {
        "trusted": true
      },
      "outputs": [
        {
          "execution_count": 25,
          "output_type": "execute_result",
          "data": {
            "text/plain": "  Employee_ID          Name Department  Salary Joining_Date  Age         City  \\\n5        E106  Sarah Taylor  Marketing   64000   01-01-2019   31  Los Angeles   \n6        E107   Chris Evans         HR   55000   07-07-2020   25       Austin   \n7        E108    Anna White         IT   71000   15-03-2021   27      Seattle   \n\n   Gender  \n5  Female  \n6    Male  \n7  Female  ",
            "text/html": "<div>\n<style scoped>\n    .dataframe tbody tr th:only-of-type {\n        vertical-align: middle;\n    }\n\n    .dataframe tbody tr th {\n        vertical-align: top;\n    }\n\n    .dataframe thead th {\n        text-align: right;\n    }\n</style>\n<table border=\"1\" class=\"dataframe\">\n  <thead>\n    <tr style=\"text-align: right;\">\n      <th></th>\n      <th>Employee_ID</th>\n      <th>Name</th>\n      <th>Department</th>\n      <th>Salary</th>\n      <th>Joining_Date</th>\n      <th>Age</th>\n      <th>City</th>\n      <th>Gender</th>\n    </tr>\n  </thead>\n  <tbody>\n    <tr>\n      <th>5</th>\n      <td>E106</td>\n      <td>Sarah Taylor</td>\n      <td>Marketing</td>\n      <td>64000</td>\n      <td>01-01-2019</td>\n      <td>31</td>\n      <td>Los Angeles</td>\n      <td>Female</td>\n    </tr>\n    <tr>\n      <th>6</th>\n      <td>E107</td>\n      <td>Chris Evans</td>\n      <td>HR</td>\n      <td>55000</td>\n      <td>07-07-2020</td>\n      <td>25</td>\n      <td>Austin</td>\n      <td>Male</td>\n    </tr>\n    <tr>\n      <th>7</th>\n      <td>E108</td>\n      <td>Anna White</td>\n      <td>IT</td>\n      <td>71000</td>\n      <td>15-03-2021</td>\n      <td>27</td>\n      <td>Seattle</td>\n      <td>Female</td>\n    </tr>\n  </tbody>\n</table>\n</div>"
          },
          "metadata": {}
        }
      ],
      "execution_count": 25
    },
    {
      "cell_type": "code",
      "source": "data=df.drop(columns=['Age'])\ndata",
      "metadata": {
        "trusted": true
      },
      "outputs": [
        {
          "execution_count": 26,
          "output_type": "execute_result",
          "data": {
            "text/plain": "  Employee_ID          Name Department  Salary Joining_Date           City  \\\n0        E101    John Smith         IT   75000   23-06-2015       New York   \n1        E102      Jane Doe         HR   52000   14-08-2017  San Francisco   \n2        E103    Mike Brown         IT   67000   21-09-2018        Chicago   \n3        E104   Emily Davis  Marketing   59000   11-11-2016         Boston   \n4        E105  David Wilson    Finance   88000   19-04-2014         Dallas   \n5        E106  Sarah Taylor  Marketing   64000   01-01-2019    Los Angeles   \n6        E107   Chris Evans         HR   55000   07-07-2020         Austin   \n7        E108    Anna White         IT   71000   15-03-2021        Seattle   \n\n   Gender  \n0    Male  \n1  Female  \n2    Male  \n3  Female  \n4    Male  \n5  Female  \n6    Male  \n7  Female  ",
            "text/html": "<div>\n<style scoped>\n    .dataframe tbody tr th:only-of-type {\n        vertical-align: middle;\n    }\n\n    .dataframe tbody tr th {\n        vertical-align: top;\n    }\n\n    .dataframe thead th {\n        text-align: right;\n    }\n</style>\n<table border=\"1\" class=\"dataframe\">\n  <thead>\n    <tr style=\"text-align: right;\">\n      <th></th>\n      <th>Employee_ID</th>\n      <th>Name</th>\n      <th>Department</th>\n      <th>Salary</th>\n      <th>Joining_Date</th>\n      <th>City</th>\n      <th>Gender</th>\n    </tr>\n  </thead>\n  <tbody>\n    <tr>\n      <th>0</th>\n      <td>E101</td>\n      <td>John Smith</td>\n      <td>IT</td>\n      <td>75000</td>\n      <td>23-06-2015</td>\n      <td>New York</td>\n      <td>Male</td>\n    </tr>\n    <tr>\n      <th>1</th>\n      <td>E102</td>\n      <td>Jane Doe</td>\n      <td>HR</td>\n      <td>52000</td>\n      <td>14-08-2017</td>\n      <td>San Francisco</td>\n      <td>Female</td>\n    </tr>\n    <tr>\n      <th>2</th>\n      <td>E103</td>\n      <td>Mike Brown</td>\n      <td>IT</td>\n      <td>67000</td>\n      <td>21-09-2018</td>\n      <td>Chicago</td>\n      <td>Male</td>\n    </tr>\n    <tr>\n      <th>3</th>\n      <td>E104</td>\n      <td>Emily Davis</td>\n      <td>Marketing</td>\n      <td>59000</td>\n      <td>11-11-2016</td>\n      <td>Boston</td>\n      <td>Female</td>\n    </tr>\n    <tr>\n      <th>4</th>\n      <td>E105</td>\n      <td>David Wilson</td>\n      <td>Finance</td>\n      <td>88000</td>\n      <td>19-04-2014</td>\n      <td>Dallas</td>\n      <td>Male</td>\n    </tr>\n    <tr>\n      <th>5</th>\n      <td>E106</td>\n      <td>Sarah Taylor</td>\n      <td>Marketing</td>\n      <td>64000</td>\n      <td>01-01-2019</td>\n      <td>Los Angeles</td>\n      <td>Female</td>\n    </tr>\n    <tr>\n      <th>6</th>\n      <td>E107</td>\n      <td>Chris Evans</td>\n      <td>HR</td>\n      <td>55000</td>\n      <td>07-07-2020</td>\n      <td>Austin</td>\n      <td>Male</td>\n    </tr>\n    <tr>\n      <th>7</th>\n      <td>E108</td>\n      <td>Anna White</td>\n      <td>IT</td>\n      <td>71000</td>\n      <td>15-03-2021</td>\n      <td>Seattle</td>\n      <td>Female</td>\n    </tr>\n  </tbody>\n</table>\n</div>"
          },
          "metadata": {}
        }
      ],
      "execution_count": 26
    },
    {
      "cell_type": "code",
      "source": "data=df.rename(columns={'City':'Location'})\ndata",
      "metadata": {
        "trusted": true
      },
      "outputs": [
        {
          "execution_count": 27,
          "output_type": "execute_result",
          "data": {
            "text/plain": "  Employee_ID          Name Department  Salary Joining_Date  Age  \\\n0        E101    John Smith         IT   75000   23-06-2015   29   \n1        E102      Jane Doe         HR   52000   14-08-2017   34   \n2        E103    Mike Brown         IT   67000   21-09-2018   41   \n3        E104   Emily Davis  Marketing   59000   11-11-2016   38   \n4        E105  David Wilson    Finance   88000   19-04-2014   45   \n5        E106  Sarah Taylor  Marketing   64000   01-01-2019   31   \n6        E107   Chris Evans         HR   55000   07-07-2020   25   \n7        E108    Anna White         IT   71000   15-03-2021   27   \n\n        Location  Gender  \n0       New York    Male  \n1  San Francisco  Female  \n2        Chicago    Male  \n3         Boston  Female  \n4         Dallas    Male  \n5    Los Angeles  Female  \n6         Austin    Male  \n7        Seattle  Female  ",
            "text/html": "<div>\n<style scoped>\n    .dataframe tbody tr th:only-of-type {\n        vertical-align: middle;\n    }\n\n    .dataframe tbody tr th {\n        vertical-align: top;\n    }\n\n    .dataframe thead th {\n        text-align: right;\n    }\n</style>\n<table border=\"1\" class=\"dataframe\">\n  <thead>\n    <tr style=\"text-align: right;\">\n      <th></th>\n      <th>Employee_ID</th>\n      <th>Name</th>\n      <th>Department</th>\n      <th>Salary</th>\n      <th>Joining_Date</th>\n      <th>Age</th>\n      <th>Location</th>\n      <th>Gender</th>\n    </tr>\n  </thead>\n  <tbody>\n    <tr>\n      <th>0</th>\n      <td>E101</td>\n      <td>John Smith</td>\n      <td>IT</td>\n      <td>75000</td>\n      <td>23-06-2015</td>\n      <td>29</td>\n      <td>New York</td>\n      <td>Male</td>\n    </tr>\n    <tr>\n      <th>1</th>\n      <td>E102</td>\n      <td>Jane Doe</td>\n      <td>HR</td>\n      <td>52000</td>\n      <td>14-08-2017</td>\n      <td>34</td>\n      <td>San Francisco</td>\n      <td>Female</td>\n    </tr>\n    <tr>\n      <th>2</th>\n      <td>E103</td>\n      <td>Mike Brown</td>\n      <td>IT</td>\n      <td>67000</td>\n      <td>21-09-2018</td>\n      <td>41</td>\n      <td>Chicago</td>\n      <td>Male</td>\n    </tr>\n    <tr>\n      <th>3</th>\n      <td>E104</td>\n      <td>Emily Davis</td>\n      <td>Marketing</td>\n      <td>59000</td>\n      <td>11-11-2016</td>\n      <td>38</td>\n      <td>Boston</td>\n      <td>Female</td>\n    </tr>\n    <tr>\n      <th>4</th>\n      <td>E105</td>\n      <td>David Wilson</td>\n      <td>Finance</td>\n      <td>88000</td>\n      <td>19-04-2014</td>\n      <td>45</td>\n      <td>Dallas</td>\n      <td>Male</td>\n    </tr>\n    <tr>\n      <th>5</th>\n      <td>E106</td>\n      <td>Sarah Taylor</td>\n      <td>Marketing</td>\n      <td>64000</td>\n      <td>01-01-2019</td>\n      <td>31</td>\n      <td>Los Angeles</td>\n      <td>Female</td>\n    </tr>\n    <tr>\n      <th>6</th>\n      <td>E107</td>\n      <td>Chris Evans</td>\n      <td>HR</td>\n      <td>55000</td>\n      <td>07-07-2020</td>\n      <td>25</td>\n      <td>Austin</td>\n      <td>Male</td>\n    </tr>\n    <tr>\n      <th>7</th>\n      <td>E108</td>\n      <td>Anna White</td>\n      <td>IT</td>\n      <td>71000</td>\n      <td>15-03-2021</td>\n      <td>27</td>\n      <td>Seattle</td>\n      <td>Female</td>\n    </tr>\n  </tbody>\n</table>\n</div>"
          },
          "metadata": {}
        }
      ],
      "execution_count": 27
    },
    {
      "cell_type": "code",
      "source": "average_salary = df.groupby('Department')['Salary'].mean().reset_index()\naverage_salary",
      "metadata": {
        "trusted": true
      },
      "outputs": [
        {
          "execution_count": 40,
          "output_type": "execute_result",
          "data": {
            "text/plain": "  Department   Salary\n0    Finance  88000.0\n1         HR  53500.0\n2         IT  71000.0\n3  Marketing  61500.0",
            "text/html": "<div>\n<style scoped>\n    .dataframe tbody tr th:only-of-type {\n        vertical-align: middle;\n    }\n\n    .dataframe tbody tr th {\n        vertical-align: top;\n    }\n\n    .dataframe thead th {\n        text-align: right;\n    }\n</style>\n<table border=\"1\" class=\"dataframe\">\n  <thead>\n    <tr style=\"text-align: right;\">\n      <th></th>\n      <th>Department</th>\n      <th>Salary</th>\n    </tr>\n  </thead>\n  <tbody>\n    <tr>\n      <th>0</th>\n      <td>Finance</td>\n      <td>88000.0</td>\n    </tr>\n    <tr>\n      <th>1</th>\n      <td>HR</td>\n      <td>53500.0</td>\n    </tr>\n    <tr>\n      <th>2</th>\n      <td>IT</td>\n      <td>71000.0</td>\n    </tr>\n    <tr>\n      <th>3</th>\n      <td>Marketing</td>\n      <td>61500.0</td>\n    </tr>\n  </tbody>\n</table>\n</div>"
          },
          "metadata": {}
        }
      ],
      "execution_count": 40
    },
    {
      "cell_type": "code",
      "source": "employee_count = df.groupby('Department').size().reset_index(name='Employee Count')\nemployee_count",
      "metadata": {
        "trusted": true
      },
      "outputs": [
        {
          "execution_count": 38,
          "output_type": "execute_result",
          "data": {
            "text/plain": "  Department  Employee Count\n0    Finance               1\n1         HR               2\n2         IT               3\n3  Marketing               2",
            "text/html": "<div>\n<style scoped>\n    .dataframe tbody tr th:only-of-type {\n        vertical-align: middle;\n    }\n\n    .dataframe tbody tr th {\n        vertical-align: top;\n    }\n\n    .dataframe thead th {\n        text-align: right;\n    }\n</style>\n<table border=\"1\" class=\"dataframe\">\n  <thead>\n    <tr style=\"text-align: right;\">\n      <th></th>\n      <th>Department</th>\n      <th>Employee Count</th>\n    </tr>\n  </thead>\n  <tbody>\n    <tr>\n      <th>0</th>\n      <td>Finance</td>\n      <td>1</td>\n    </tr>\n    <tr>\n      <th>1</th>\n      <td>HR</td>\n      <td>2</td>\n    </tr>\n    <tr>\n      <th>2</th>\n      <td>IT</td>\n      <td>3</td>\n    </tr>\n    <tr>\n      <th>3</th>\n      <td>Marketing</td>\n      <td>2</td>\n    </tr>\n  </tbody>\n</table>\n</div>"
          },
          "metadata": {}
        }
      ],
      "execution_count": 38
    },
    {
      "cell_type": "code",
      "source": "total_salary_by_gender = df.groupby('Gender')['Salary'].sum().reset_index()\ntotal_salary_by_gender",
      "metadata": {
        "trusted": true
      },
      "outputs": [
        {
          "execution_count": 41,
          "output_type": "execute_result",
          "data": {
            "text/plain": "   Gender  Salary\n0  Female  246000\n1    Male  285000",
            "text/html": "<div>\n<style scoped>\n    .dataframe tbody tr th:only-of-type {\n        vertical-align: middle;\n    }\n\n    .dataframe tbody tr th {\n        vertical-align: top;\n    }\n\n    .dataframe thead th {\n        text-align: right;\n    }\n</style>\n<table border=\"1\" class=\"dataframe\">\n  <thead>\n    <tr style=\"text-align: right;\">\n      <th></th>\n      <th>Gender</th>\n      <th>Salary</th>\n    </tr>\n  </thead>\n  <tbody>\n    <tr>\n      <th>0</th>\n      <td>Female</td>\n      <td>246000</td>\n    </tr>\n    <tr>\n      <th>1</th>\n      <td>Male</td>\n      <td>285000</td>\n    </tr>\n  </tbody>\n</table>\n</div>"
          },
          "metadata": {}
        }
      ],
      "execution_count": 41
    },
    {
      "cell_type": "code",
      "source": "",
      "metadata": {
        "trusted": true
      },
      "outputs": [],
      "execution_count": null
    }
  ]
}